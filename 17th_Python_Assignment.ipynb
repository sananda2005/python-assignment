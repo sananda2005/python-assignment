{
  "nbformat": 4,
  "nbformat_minor": 0,
  "metadata": {
    "colab": {
      "provenance": []
    },
    "kernelspec": {
      "name": "python3",
      "display_name": "Python 3"
    },
    "language_info": {
      "name": "python"
    }
  },
  "cells": [
    {
      "cell_type": "markdown",
      "source": [
        "**For loop**"
      ],
      "metadata": {
        "id": "XMex5sjf2wz9"
      }
    },
    {
      "cell_type": "markdown",
      "source": [
        "1.Write a Python program to print numbers from 1 to 10 using a for loop.\n"
      ],
      "metadata": {
        "id": "ohs3xq1o23mo"
      }
    },
    {
      "cell_type": "code",
      "source": [
        "#printing numbers from 1 to 10 using for loop\n",
        "for i in range(1,11):\n",
        "  print(i,end=\" \")"
      ],
      "metadata": {
        "colab": {
          "base_uri": "https://localhost:8080/"
        },
        "id": "keOyOA-R29B8",
        "outputId": "f7b628a8-0964-4df5-bd8e-1697bbe26d3a"
      },
      "execution_count": null,
      "outputs": [
        {
          "output_type": "stream",
          "name": "stdout",
          "text": [
            "1 2 3 4 5 6 7 8 9 10 "
          ]
        }
      ]
    },
    {
      "cell_type": "markdown",
      "source": [
        "2.\tExplain the difference between a for loop and a while loop in Python."
      ],
      "metadata": {
        "id": "SKTFxI9Z51Kd"
      }
    },
    {
      "cell_type": "markdown",
      "source": [
        "For loop:\n",
        "\n",
        "> For loop is used when the number of iterations is already known.\n",
        "The loop runs infinite times in the absence of condition.\n",
        "For loop is typically used for iterating over a fixed sequence of items.\n",
        "For loops are more efficient than while loop.\n",
        "\n",
        "While loop:\n",
        "\n",
        "> While loop is used when the number of iterations is not known.\n",
        "While loop returns the compile time error in the absence of condition.\n",
        "While loop is used to repeatedly execute a block of statements while a condition is true.\n",
        "While loop is relatively slower as compared to for loop.\n",
        "\n",
        "\n",
        "\n"
      ],
      "metadata": {
        "id": "rB_mboMY_JEA"
      }
    },
    {
      "cell_type": "markdown",
      "source": [
        "3.\tWrite a Python program to calculate the sum of all numbers from 1 to 100 using a for loop."
      ],
      "metadata": {
        "id": "0E2GrcweBJKz"
      }
    },
    {
      "cell_type": "code",
      "source": [
        "#initializing a variable to store the value\n",
        "sum_num=0\n",
        "#Calculating the sum of all numbers from 1 to 100 using for loop\n",
        "for i in range(1,101):\n",
        "  sum_num +=i\n",
        "print(f\"Sum of all numbers from 1 to 100 is :{sum_num}\")"
      ],
      "metadata": {
        "colab": {
          "base_uri": "https://localhost:8080/"
        },
        "id": "WHjfrZDl8igc",
        "outputId": "44cc1ab8-d65b-4ad3-8601-d30b31bd26c9"
      },
      "execution_count": null,
      "outputs": [
        {
          "output_type": "stream",
          "name": "stdout",
          "text": [
            "Sum of all numbers from 1 t 100 is :5050\n"
          ]
        }
      ]
    },
    {
      "cell_type": "markdown",
      "source": [
        "4.\tHow do you iterate through a list using a for loop in Python?"
      ],
      "metadata": {
        "id": "gekBBbg9CF4M"
      }
    },
    {
      "cell_type": "code",
      "source": [
        "#initializing my list\n",
        "my_list=[1,2,3,4,5,6,7,8,9,10]\n",
        "#iteration of a list using for loop\n",
        "for i in my_list:\n",
        "  print(i,end=\" \")"
      ],
      "metadata": {
        "colab": {
          "base_uri": "https://localhost:8080/"
        },
        "id": "hyvl_xhBCR6G",
        "outputId": "29dd272b-46c0-46c1-e878-81955e2145bb"
      },
      "execution_count": null,
      "outputs": [
        {
          "output_type": "stream",
          "name": "stdout",
          "text": [
            "1 2 3 4 5 6 7 8 9 10 "
          ]
        }
      ]
    },
    {
      "cell_type": "markdown",
      "source": [
        "5.\tWrite a Python program to find the product of all elements in a list using a for loop."
      ],
      "metadata": {
        "id": "ODGlJrg_C8x6"
      }
    },
    {
      "cell_type": "code",
      "source": [
        "#initializing my list\n",
        "my_list=[1,2,3,4,5,6,7,8,9,10]\n",
        "#initializing a variable to store the value\n",
        "product_ele=1\n",
        "#finding the product of all elements in my list using a for loop.\n",
        "for i in my_list:\n",
        "  product_ele *=i\n",
        "print(f\"The product of all elements in my list is:{product_ele}\")"
      ],
      "metadata": {
        "colab": {
          "base_uri": "https://localhost:8080/"
        },
        "id": "GLrOsaOdevUA",
        "outputId": "6d7d4e2d-b815-45c1-a93d-08f49a88f9e4"
      },
      "execution_count": null,
      "outputs": [
        {
          "output_type": "stream",
          "name": "stdout",
          "text": [
            "The product of all elements in my list is:3628800\n"
          ]
        }
      ]
    },
    {
      "cell_type": "markdown",
      "source": [
        "6.\tCreate a Python program that prints all even numbers from 1 to 20 using a for loop."
      ],
      "metadata": {
        "id": "wnqwW__-gpxW"
      }
    },
    {
      "cell_type": "code",
      "source": [
        "#printing all even numbers from 1 to 20 using a for loop.\n",
        "print(\"The even numbers from 1 to 20 are:\")\n",
        "for i in range(1,21):\n",
        "  if i % 2 == 0:\n",
        "    print(i,end=\" \")\n",
        "  else:\n",
        "    pass"
      ],
      "metadata": {
        "colab": {
          "base_uri": "https://localhost:8080/"
        },
        "id": "BC9ct_cfgv77",
        "outputId": "449a2d85-f6b3-4991-b6d6-2325119b6441"
      },
      "execution_count": null,
      "outputs": [
        {
          "output_type": "stream",
          "name": "stdout",
          "text": [
            "The even numbers from 1 to 20 are:\n",
            "2 4 6 8 10 12 14 16 18 20 "
          ]
        }
      ]
    },
    {
      "cell_type": "markdown",
      "source": [
        "7.\tWrite a Python program that calculates the factorial of a number using a for loop."
      ],
      "metadata": {
        "id": "WVKVbm22h_q0"
      }
    },
    {
      "cell_type": "code",
      "source": [
        "#initializing a variable to take input from user\n",
        "n=int(input(\"Enter the number:\"))\n",
        "#a variable to store the value\n",
        "x = 1\n",
        "#Calculating the factorial using for loop\n",
        "for i in range(1,n+1):\n",
        "  x *= i\n",
        "print(f\"The factorial of {n} is {x}\")\n"
      ],
      "metadata": {
        "colab": {
          "base_uri": "https://localhost:8080/"
        },
        "id": "2PIawfdpiHD_",
        "outputId": "551a2ee9-c33d-4f5b-83ca-0e12bfd61f22"
      },
      "execution_count": null,
      "outputs": [
        {
          "output_type": "stream",
          "name": "stdout",
          "text": [
            "Enter the number:6\n",
            "The factorial of 6 is 720\n"
          ]
        }
      ]
    },
    {
      "cell_type": "markdown",
      "source": [
        "8.\tHow can you iterate through the characters of a string using a for loop in Python?"
      ],
      "metadata": {
        "id": "ecOOudFik6fx"
      }
    },
    {
      "cell_type": "code",
      "source": [
        "#initializing a variable to take input from user\n",
        "my_string=str(input(\"Enter the string:\"))\n",
        "#iterating through the characters of a string using a for loop in Python?\n",
        "for i in my_string:\n",
        "  print(f\"'{i}'\",end=\" \")"
      ],
      "metadata": {
        "colab": {
          "base_uri": "https://localhost:8080/"
        },
        "id": "ePeVZk4ylCFy",
        "outputId": "72999390-0412-423d-f573-3731c987a237"
      },
      "execution_count": null,
      "outputs": [
        {
          "output_type": "stream",
          "name": "stdout",
          "text": [
            "Enter the string:sananda\n",
            "'s' 'a' 'n' 'a' 'n' 'd' 'a' "
          ]
        }
      ]
    },
    {
      "cell_type": "markdown",
      "source": [
        "9.\tWrite a Python program to find the largest number in a list using a for loop."
      ],
      "metadata": {
        "id": "nR-ohQ4zok7Z"
      }
    },
    {
      "cell_type": "code",
      "source": [
        "#decleration of a list\n",
        "my_list=[2,4,6,9,5,3]\n",
        "#defining a function to find the largest number using for loop\n",
        "def max_num(my_list):\n",
        "  x = my_list[0]\n",
        "  for i in my_list:\n",
        "    if i >x:\n",
        "      x = i\n",
        "  return x\n",
        "number=max_num(my_list)\n",
        "print(f\"The largest number in th list is:{number}\")\n"
      ],
      "metadata": {
        "colab": {
          "base_uri": "https://localhost:8080/"
        },
        "id": "xVNmqTpVopLx",
        "outputId": "55d7de00-e533-4d27-f021-eee492bbe5ac"
      },
      "execution_count": null,
      "outputs": [
        {
          "output_type": "stream",
          "name": "stdout",
          "text": [
            "The largest number in th list is:9\n"
          ]
        }
      ]
    },
    {
      "cell_type": "markdown",
      "source": [
        "10.\tCreate a Python program that prints the Fibonacci sequence up to a specified limit using a for loop."
      ],
      "metadata": {
        "id": "QlITmoHlry_1"
      }
    },
    {
      "cell_type": "code",
      "source": [
        "#printing the Fibonacci sequence up to a specified limit using a for loop.(using 3 variables)\n",
        "n=10\n",
        "a=0\n",
        "b=1\n",
        "print(a,b,end=\" \")\n",
        "#print(b)\n",
        "\n",
        "for i in range(2,n):\n",
        "  #c=0\n",
        "  c=a+b\n",
        "  print(c,end=\" \")\n",
        "  a=b\n",
        "  b=c\n"
      ],
      "metadata": {
        "colab": {
          "base_uri": "https://localhost:8080/"
        },
        "id": "Lp_VI2mjr2ok",
        "outputId": "5e7d6d9d-37f9-4b4b-af19-fc80367b087d"
      },
      "execution_count": null,
      "outputs": [
        {
          "output_type": "stream",
          "name": "stdout",
          "text": [
            "0 1 1 2 3 5 8 13 21 34 "
          ]
        }
      ]
    },
    {
      "cell_type": "code",
      "source": [
        "#Fibonacci series using two variables\n",
        "n=10\n",
        "a,b = 0,1\n",
        "print(a,end=' ')\n",
        "for i in range(1,n):\n",
        "  a,b = b,a+b\n",
        "  print(a,end=\" \")"
      ],
      "metadata": {
        "colab": {
          "base_uri": "https://localhost:8080/"
        },
        "id": "wkgXau1h895p",
        "outputId": "01c474d5-cb2e-46e7-c901-376f8136b90f"
      },
      "execution_count": null,
      "outputs": [
        {
          "output_type": "stream",
          "name": "stdout",
          "text": [
            "0 1 1 2 3 5 8 13 21 34 "
          ]
        }
      ]
    },
    {
      "cell_type": "markdown",
      "source": [
        "11.\tWrite a Python program to count the number of vowels in a given string using a for loop."
      ],
      "metadata": {
        "id": "5BccRWicv910"
      }
    },
    {
      "cell_type": "code",
      "source": [
        "#counting the number of vowels in a given string using a for loop.\n",
        "my_string = \"Hello World, a very good morning\"\n",
        "v_count = 0\n",
        "for i in my_string.lower():\n",
        "  if i in 'aeiou':\n",
        "    v_count+= 1\n",
        "print(f\"The number of vowels in the given string is:{v_count}\")"
      ],
      "metadata": {
        "colab": {
          "base_uri": "https://localhost:8080/"
        },
        "id": "jPRrVufKxXHc",
        "outputId": "934c9646-ddc9-4feb-af14-e0c71d6b29fc"
      },
      "execution_count": null,
      "outputs": [
        {
          "output_type": "stream",
          "name": "stdout",
          "text": [
            "The number of vowels in the given string is:9\n"
          ]
        }
      ]
    },
    {
      "cell_type": "markdown",
      "source": [
        "12.\tCreate a Python program that generates a multiplication table for a given number using a for loop."
      ],
      "metadata": {
        "id": "S0U2Q-YnyBDi"
      }
    },
    {
      "cell_type": "code",
      "source": [
        "#multiplication table for a given number using a for loop.\n",
        "n=int(input(\"Enter the number:\"))\n",
        "x=1\n",
        "print(f\"Multiplication table for {n} is:\")\n",
        "for i in range(1,11):\n",
        "  x = n * i\n",
        "  print(f\"{n} * {i} = {x}\")"
      ],
      "metadata": {
        "colab": {
          "base_uri": "https://localhost:8080/"
        },
        "id": "iDZttlmmyGLK",
        "outputId": "08183144-a13a-472c-b3cc-a43d45dc2c58"
      },
      "execution_count": null,
      "outputs": [
        {
          "output_type": "stream",
          "name": "stdout",
          "text": [
            "Enter the number:5\n",
            "Multiplication table for 5 is:\n",
            "5 * 1 = 5\n",
            "5 * 2 = 10\n",
            "5 * 3 = 15\n",
            "5 * 4 = 20\n",
            "5 * 5 = 25\n",
            "5 * 6 = 30\n",
            "5 * 7 = 35\n",
            "5 * 8 = 40\n",
            "5 * 9 = 45\n",
            "5 * 10 = 50\n"
          ]
        }
      ]
    },
    {
      "cell_type": "markdown",
      "source": [
        "13.\tWrite a Python program to reverse a list using a for loop."
      ],
      "metadata": {
        "id": "qvbMr0dYyMkt"
      }
    },
    {
      "cell_type": "code",
      "source": [
        "my_list=[1,2,3,4,5]\n",
        "reverse_list=[]\n",
        "for i in my_list:\n",
        "  reverse_list = my_list[::-1]\n",
        "print(f\"The reverse list is :{reverse_list}\")\n"
      ],
      "metadata": {
        "id": "8Ip03fiZymD1",
        "colab": {
          "base_uri": "https://localhost:8080/"
        },
        "outputId": "ec44c9bf-a899-4f04-d328-7e361d9c64a0"
      },
      "execution_count": null,
      "outputs": [
        {
          "output_type": "stream",
          "name": "stdout",
          "text": [
            "The reverse list is :[5, 4, 3, 2, 1]\n"
          ]
        }
      ]
    },
    {
      "cell_type": "markdown",
      "source": [
        "14.\tWrite a Python program to find the common elements between two lists using a for loop."
      ],
      "metadata": {
        "id": "13-BNMYqymtN"
      }
    },
    {
      "cell_type": "code",
      "source": [
        "#finding the common elements between two lists using a for loop.\n",
        "list1=[1,2,3,4,5,6]\n",
        "list2=[2,4,6,7,8,9]\n",
        "for i in list1:\n",
        "  for j in list2:\n",
        "    if i == j:\n",
        "      print(i)"
      ],
      "metadata": {
        "id": "MugKwPlbyszO",
        "colab": {
          "base_uri": "https://localhost:8080/"
        },
        "outputId": "bb476ec6-99ba-4ce5-8a44-1ce3f8c8281f"
      },
      "execution_count": null,
      "outputs": [
        {
          "output_type": "stream",
          "name": "stdout",
          "text": [
            "2\n",
            "4\n",
            "6\n"
          ]
        }
      ]
    },
    {
      "cell_type": "markdown",
      "source": [
        "15.\tExplain how to use a for loop to iterate through the keys and values of a dictionary in Python."
      ],
      "metadata": {
        "id": "f1J9wAfGy2KA"
      }
    },
    {
      "cell_type": "code",
      "source": [
        "#iterating through the keys and values of a dictionary in Python using python\n",
        "my_dict={'1st':'January','2nd':'February','3rd':'March','4th':'April','5th':'May'}\n",
        "x=0\n",
        "for i in my_dict.keys():\n",
        "  print(i,end=' ')\n",
        "for j in my_dict.values():\n",
        "  print(j,end=\" \")\n",
        "print('\\n')\n",
        "for i,j in my_dict.items():\n",
        "  print(i,':',j)\n"
      ],
      "metadata": {
        "id": "UISnME5Ey7yN",
        "colab": {
          "base_uri": "https://localhost:8080/"
        },
        "outputId": "5585cb29-d7f8-43c2-d66a-9d7a1bd63ce1"
      },
      "execution_count": null,
      "outputs": [
        {
          "output_type": "stream",
          "name": "stdout",
          "text": [
            "1st 2nd 3rd 4th 5th January February March April May \n",
            "\n",
            "1st : January\n",
            "2nd : February\n",
            "3rd : March\n",
            "4th : April\n",
            "5th : May\n"
          ]
        }
      ]
    },
    {
      "cell_type": "markdown",
      "source": [
        "16.\tWrite a Python program to find the GCD (Greatest Common Divisor) of two numbers using a for loop."
      ],
      "metadata": {
        "id": "A0QyfPtGy86l"
      }
    },
    {
      "cell_type": "code",
      "source": [
        "#finding the GCD (Greatest Common Divisor) of two numbers using a for loop.\n",
        "num1 = int(input(\"Enter the 1st number:\"))\n",
        "num2 = int(input(\"Enter the 2nd number:\"))\n",
        "if num1 > num2:\n",
        "  num1,num2 = num2,num1\n",
        "for i in range(1,num1+1):\n",
        "  if i <= num2:\n",
        "    if num1 % i == 0 and num2 % i == 0:\n",
        "      GCD = i\n",
        "print(GCD)"
      ],
      "metadata": {
        "id": "YNDp115OzCu_",
        "colab": {
          "base_uri": "https://localhost:8080/"
        },
        "outputId": "50139a3a-acfd-4f3a-c7a6-6ae2c13b913a"
      },
      "execution_count": null,
      "outputs": [
        {
          "output_type": "stream",
          "name": "stdout",
          "text": [
            "Enter the 1st number:12\n",
            "Enter the 2nd number:60\n",
            "12\n"
          ]
        }
      ]
    },
    {
      "cell_type": "markdown",
      "source": [
        "17.\tCreate a Python program that checks if a string is a palindrome using a for loop."
      ],
      "metadata": {
        "id": "uUaSQxXizDUv"
      }
    },
    {
      "cell_type": "code",
      "source": [
        "#checking if a string is a palindrome using a for loop.\n",
        "\n",
        "my_str=input(\"Enter the string:\")\n",
        "reverse_str=\"\"\n",
        "for i in my_str:\n",
        "  reverse_str = i+reverse_str\n",
        "print(reverse_str)\n",
        "\n",
        "if my_str == reverse_str:\n",
        "    print(\"It is a palindrome\")\n",
        "else:\n",
        "    print(\"It is not a palindrome\")\n"
      ],
      "metadata": {
        "id": "IfhyxAB_zKC3",
        "colab": {
          "base_uri": "https://localhost:8080/"
        },
        "outputId": "38215913-a922-4e9a-ec8d-4a37f4e1a5eb"
      },
      "execution_count": null,
      "outputs": [
        {
          "output_type": "stream",
          "name": "stdout",
          "text": [
            "Enter the string:madam\n",
            "madam\n",
            "It is a palindrome\n"
          ]
        }
      ]
    },
    {
      "cell_type": "markdown",
      "source": [
        "18.\tWrite a Python program to remove duplicates from a list using a for loop."
      ],
      "metadata": {
        "id": "ukvEcvWgzKr5"
      }
    },
    {
      "cell_type": "code",
      "source": [
        "#removing duplicates from a list using a for loop.\n",
        "list1=[1,2,3,4,5,5,2,7,4,6,6,8]\n",
        "x = []\n",
        "for i in list1:\n",
        "  if i not in x:\n",
        "    x.append(i)\n",
        "print(x)"
      ],
      "metadata": {
        "id": "l1ZJ0_QZzPcj",
        "colab": {
          "base_uri": "https://localhost:8080/"
        },
        "outputId": "b03b6db1-5205-45aa-d1a0-46fc62cf9034"
      },
      "execution_count": null,
      "outputs": [
        {
          "output_type": "stream",
          "name": "stdout",
          "text": [
            "[1, 2, 3, 4, 5, 7, 6, 8]\n"
          ]
        }
      ]
    },
    {
      "cell_type": "markdown",
      "source": [
        "19.\tCreate a Python program that counts the number of words in a sentence using a for loop."
      ],
      "metadata": {
        "id": "eLyhAj9tzQBf"
      }
    },
    {
      "cell_type": "code",
      "source": [
        "#counting the number of words in a sentence using a for loop.\n",
        "sentence='hello good morning have a nice day'\n",
        "words=1\n",
        "for i in range(len(sentence)):\n",
        "    if (sentence[i] == ' ' or sentence == '\\n' or sentence == '\\t'):\n",
        "        words = words +1\n",
        "print(f\"The number of words in the sentence is:{words}\")\n"
      ],
      "metadata": {
        "id": "4IxikqEfzZJL",
        "colab": {
          "base_uri": "https://localhost:8080/"
        },
        "outputId": "2105f0bb-d2ee-4da8-970c-d75a4f2c0d13"
      },
      "execution_count": null,
      "outputs": [
        {
          "output_type": "stream",
          "name": "stdout",
          "text": [
            "The number of words in the sentence is:7\n"
          ]
        }
      ]
    },
    {
      "cell_type": "markdown",
      "source": [
        "20.\tWrite a Python program to find the sum of all odd numbers from 1 to 50 using a for loop."
      ],
      "metadata": {
        "id": "fk7wD7sizaCM"
      }
    },
    {
      "cell_type": "code",
      "source": [
        "#finding the sum of all odd numbers from 1 to 50 using a for loop.\n",
        "x=0\n",
        "for i in range(1,51):\n",
        "  if i %2 != 0:\n",
        "    x=x+i\n",
        "print(x)"
      ],
      "metadata": {
        "id": "2f563kXszjT3",
        "colab": {
          "base_uri": "https://localhost:8080/"
        },
        "outputId": "04c4f834-ea8a-4dd7-e130-82971c37fd6b"
      },
      "execution_count": null,
      "outputs": [
        {
          "output_type": "stream",
          "name": "stdout",
          "text": [
            "625\n"
          ]
        }
      ]
    },
    {
      "cell_type": "markdown",
      "source": [
        "21.\tWrite a Python program that checks if a given year is a leap year using a for loop."
      ],
      "metadata": {
        "id": "Z7ckX9ZVzj6D"
      }
    },
    {
      "cell_type": "code",
      "source": [
        "year = int(input(\"enter the year:\"))\n",
        "#for i in year:\n",
        "if (year % 4) == 0 and ((year % 100) != 0 or (year% 400 )==0):\n",
        "    print(\"It is a leap year\")\n",
        "else:\n",
        "    print(\"it is not a leap year\")"
      ],
      "metadata": {
        "id": "yZNuVcPNzpWo",
        "colab": {
          "base_uri": "https://localhost:8080/"
        },
        "outputId": "ac31736d-e310-46d2-9f1d-3f75e53c5a32"
      },
      "execution_count": null,
      "outputs": [
        {
          "output_type": "stream",
          "name": "stdout",
          "text": [
            "enter the year:2020\n",
            "It is a leap year\n"
          ]
        }
      ]
    },
    {
      "cell_type": "markdown",
      "source": [
        "22.\tCreate a Python program that calculates the square root of a number using a for loop."
      ],
      "metadata": {
        "id": "NftxkCQDzqBV"
      }
    },
    {
      "cell_type": "code",
      "source": [
        "#calculating the square root of a number using a for loop.\n",
        "num = int (input(\"Enter the number:\"))\n",
        "for i in range(2,num):\n",
        "  if num == i**2:\n",
        "    print(f\"The square root of {num} is {i}\")\n"
      ],
      "metadata": {
        "id": "BDld1_910B5j",
        "colab": {
          "base_uri": "https://localhost:8080/"
        },
        "outputId": "02f7f50a-99f1-4055-e6d5-f84143d701c3"
      },
      "execution_count": null,
      "outputs": [
        {
          "output_type": "stream",
          "name": "stdout",
          "text": [
            "Enter the number:49\n",
            "The square root of 49 is 7\n"
          ]
        }
      ]
    },
    {
      "cell_type": "markdown",
      "source": [
        "23.\tWrite a Python program to find the LCM (Least Common Multiple) of two numbers using a for loop."
      ],
      "metadata": {
        "id": "fAjJFavE0C3H"
      }
    },
    {
      "cell_type": "code",
      "source": [
        "#finding the LCM (Least Common Multiple) of two numbers using a for loop.\n",
        "x = int(input(\"Enter the 1st number\"))\n",
        "y = int(input(\"Enter the 2nd number:\"))\n",
        "\n",
        "if x > y:\n",
        "  x,y = y,x\n",
        "for i in range(1,x+1):\n",
        "  if x%i == 0 and y%i == 0:\n",
        "    gcd = i\n",
        "lcm = (x*y)/gcd\n",
        "print(f\"The LCM of {x} and {y} is {lcm}\")"
      ],
      "metadata": {
        "id": "tHEOIxEh0J8s",
        "colab": {
          "base_uri": "https://localhost:8080/"
        },
        "outputId": "4fc49809-a77a-484c-deca-b562456fba9a"
      },
      "execution_count": null,
      "outputs": [
        {
          "output_type": "stream",
          "name": "stdout",
          "text": [
            "Enter the 1st number12\n",
            "Enter the 2nd number:60\n",
            "The LCM of 12 and 60 is 60.0\n"
          ]
        }
      ]
    },
    {
      "cell_type": "markdown",
      "source": [
        "**If else :**"
      ],
      "metadata": {
        "id": "xS9P2EHJ1mnI"
      }
    },
    {
      "cell_type": "markdown",
      "source": [
        "1.\tWrite a Python program to check if a number is positive, negative, or zero using an if-else statement."
      ],
      "metadata": {
        "id": "9w0be2YQ1tHi"
      }
    },
    {
      "cell_type": "code",
      "source": [
        "#checking if a number is positive, negative, or zero using an if-else statement.\n",
        "\n",
        "num=int(input(\"Enter the number:\"))\n",
        "if num < 0:\n",
        "  print(f\"{num} is a negative number\")\n",
        "elif num > 0:\n",
        "  print(f\"{num} is a positive number\")\n",
        "#elif num == 0 :\n",
        "else:\n",
        "  print(f\"{num} is a zero\")"
      ],
      "metadata": {
        "id": "Xeqtv8Vy2FVA",
        "colab": {
          "base_uri": "https://localhost:8080/"
        },
        "outputId": "02a59061-05a1-4c7a-eb9a-6dd91132f644"
      },
      "execution_count": null,
      "outputs": [
        {
          "output_type": "stream",
          "name": "stdout",
          "text": [
            "Enter the number:0\n",
            "0 is a zero\n"
          ]
        }
      ]
    },
    {
      "cell_type": "markdown",
      "source": [
        "2.\tCreate a Python program that checks if a given number is even or odd using an if-else statement."
      ],
      "metadata": {
        "id": "nlwNEwhf2Hxr"
      }
    },
    {
      "cell_type": "code",
      "source": [
        "num=int(input(\"Enter the number:\"))\n",
        "if num % 2 == 0:\n",
        "  print(f\"{num} is an even number\")\n",
        "else:\n",
        "  print(f\"{num} is a odd number\")"
      ],
      "metadata": {
        "id": "ZClheRc52ium",
        "colab": {
          "base_uri": "https://localhost:8080/"
        },
        "outputId": "68cba2d0-2414-4727-e5dc-2c38cb5ca1d7"
      },
      "execution_count": null,
      "outputs": [
        {
          "output_type": "stream",
          "name": "stdout",
          "text": [
            "Enter the number:5\n",
            "5 is a odd number\n"
          ]
        }
      ]
    },
    {
      "cell_type": "markdown",
      "source": [
        "3.\tHow can you use nested if-else statements in Python, and provide an example?"
      ],
      "metadata": {
        "id": "dcTAIOa62nzd"
      }
    },
    {
      "cell_type": "code",
      "source": [
        "#if (condition1):\n",
        "   # Executes when condition1 is true\n",
        "   #if (condition2):\n",
        "      # Executes when condition2 is true\n",
        "   # if Block is end here\n",
        "# if Block is end here\n",
        "\n",
        "#Example\n",
        "num1 = int(input(\"Enter the 1st number:\"))\n",
        "num2 = int(input(\"Enter the 2nd number:\"))\n",
        "if num1 > num2:\n",
        "  num1,num2 = num2,num1\n",
        "for i in range(1,num1+1):\n",
        "  if i <= num2:\n",
        "    if num1 % i == 0 and num2 % i == 0:\n",
        "      GCD = i\n",
        "print(GCD)\n"
      ],
      "metadata": {
        "id": "vv_E_CxZ23Sk"
      },
      "execution_count": null,
      "outputs": []
    },
    {
      "cell_type": "markdown",
      "source": [
        "4.\tWrite a Python program to determine the largest of three numbers using if-else."
      ],
      "metadata": {
        "id": "wBqMY1Dp24Dr"
      }
    },
    {
      "cell_type": "code",
      "source": [
        "x = int(input(\"Enter the 1st number:\"))\n",
        "y = int(input(\"Enter the 2nd number:\"))\n",
        "z = int(input(\"Enter the 3rd number:\"))\n",
        "if x > y and x > z:\n",
        "  print(f\"{x} is the largest number\")\n",
        "elif y > x and y > z:\n",
        "  print(f\"{y} is the largest number\")\n",
        "else:\n",
        "  print(f\"{z} is the largest number\")"
      ],
      "metadata": {
        "id": "o3lg8C0Z28wS",
        "colab": {
          "base_uri": "https://localhost:8080/"
        },
        "outputId": "355d61ba-3fbc-44ed-d0bd-b4d776286034"
      },
      "execution_count": null,
      "outputs": [
        {
          "output_type": "stream",
          "name": "stdout",
          "text": [
            "Enter the 1st number:45\n",
            "Enter the 2nd number:12\n",
            "Enter the 3rd number:78\n",
            "78 is the largest number\n"
          ]
        }
      ]
    },
    {
      "cell_type": "markdown",
      "source": [
        "5.\tWrite a Python program that calculates the absolute value of a number using if-else."
      ],
      "metadata": {
        "id": "ELNiqS-EEy9I"
      }
    },
    {
      "cell_type": "code",
      "source": [
        "num= int(input(\"Enter the number:\"))\n",
        "if num < 0:\n",
        "  x = 0 - num\n",
        "  print(f\"The absolute value of {num} is {x}\")\n",
        "else:\n",
        "  print(f\"The absolute value of {num} is {num}\")"
      ],
      "metadata": {
        "colab": {
          "base_uri": "https://localhost:8080/"
        },
        "id": "gnjmxs4zFHGy",
        "outputId": "3043a2d5-b29c-41bb-8f58-cabcc716b9ca"
      },
      "execution_count": null,
      "outputs": [
        {
          "output_type": "stream",
          "name": "stdout",
          "text": [
            "Enter the number:-5\n",
            "The absolute value of -5 is 5\n"
          ]
        }
      ]
    },
    {
      "cell_type": "markdown",
      "source": [
        "6.\tCreate a Python program that checks if a given character is a vowel or consonant using if-else."
      ],
      "metadata": {
        "id": "AIg5kgZhGyo2"
      }
    },
    {
      "cell_type": "code",
      "source": [
        "character= input(\"Enter the character:\")\n",
        "if character.lower() in 'aeiou':\n",
        "  print(f\"{character} is a vowel\")\n",
        "else:\n",
        "  print(f\"{character} is a consonent\")\n"
      ],
      "metadata": {
        "colab": {
          "base_uri": "https://localhost:8080/"
        },
        "id": "oeXnvp2JIYta",
        "outputId": "32cc266b-9355-46cf-fff8-05b108e21469"
      },
      "execution_count": null,
      "outputs": [
        {
          "output_type": "stream",
          "name": "stdout",
          "text": [
            "Enter the character:A\n",
            "A is a vowel\n"
          ]
        }
      ]
    },
    {
      "cell_type": "markdown",
      "source": [
        "7.\tWrite a Python program to determine if a user is eligible to vote based on their age using if-else."
      ],
      "metadata": {
        "id": "WVM4cNVWJJ-G"
      }
    },
    {
      "cell_type": "code",
      "source": [
        "age=int(input(\"Enter the age of the voter:\"))\n",
        "if age >= 18:\n",
        "  print(\"The voter is eligible to vote\")\n",
        "else:\n",
        "  print(\"The voter is not eligible for vote\")"
      ],
      "metadata": {
        "colab": {
          "base_uri": "https://localhost:8080/"
        },
        "id": "-W_DA53gJSzV",
        "outputId": "bb9bfbdb-5766-4e82-ae25-7bd1aed3a2ea"
      },
      "execution_count": null,
      "outputs": [
        {
          "output_type": "stream",
          "name": "stdout",
          "text": [
            "Enter the age of the voter:21\n",
            "The voter is eligible to vote\n"
          ]
        }
      ]
    },
    {
      "cell_type": "markdown",
      "source": [
        "8.\tCreate a Python program that calculates the discount amount based on the purchase amount using if-else."
      ],
      "metadata": {
        "id": "wTdtPuUuJuov"
      }
    },
    {
      "cell_type": "code",
      "source": [
        "amount=float(input(\"Enter your purchasing amount:\"))\n",
        "\n",
        "if amount < 500:\n",
        "  print(\"No discount applied\")\n",
        "  print(f\"Pay ${amount}\")\n",
        "elif 501 < amount < 1000:\n",
        "  print(\"you got a 10% discount\")\n",
        "  print(f\"pay ${amount-(0.1 * amount)}\")\n",
        "elif 1001 < amount < 2000:\n",
        "  print(\"you got a 20% discount\")\n",
        "  print(f\"pay ${amount-(0.2 * amount)}\")\n",
        "else:\n",
        "  print(\"you got 30% discount\")\n",
        "  print(f\"pay ${amount-(0.3 * amount)}\")"
      ],
      "metadata": {
        "id": "u-py1DdaJ0t9",
        "colab": {
          "base_uri": "https://localhost:8080/"
        },
        "outputId": "3da27283-013c-4708-98ba-56579d21e9bd"
      },
      "execution_count": null,
      "outputs": [
        {
          "output_type": "stream",
          "name": "stdout",
          "text": [
            "Enter your purchasing amount:3500\n",
            "you got 30% discount\n",
            "pay $2450.0\n"
          ]
        }
      ]
    },
    {
      "cell_type": "markdown",
      "source": [
        "9.\tWrite a Python program to check if a number is within a specified range using if-else."
      ],
      "metadata": {
        "id": "8fHxiODwvQlF"
      }
    },
    {
      "cell_type": "code",
      "source": [
        "num= int(input(\"Enter the number:\"))\n",
        "if num in range(1,100):\n",
        "  print(f\"{num} is in the specified range.\")\n",
        "else:\n",
        "  print(\"number is not in the range.\")"
      ],
      "metadata": {
        "colab": {
          "base_uri": "https://localhost:8080/"
        },
        "id": "eaWbZOpuvmmx",
        "outputId": "eeb133e6-a036-4341-c028-d10b57961ab0"
      },
      "execution_count": null,
      "outputs": [
        {
          "output_type": "stream",
          "name": "stdout",
          "text": [
            "Enter the number:58\n",
            "58 is in the specified range.\n"
          ]
        }
      ]
    },
    {
      "cell_type": "markdown",
      "source": [
        "10.\tCreate a Python program that determines the grade of a student based on their score using if-else."
      ],
      "metadata": {
        "id": "g0v5T8C_5rw3"
      }
    },
    {
      "cell_type": "code",
      "source": [
        "student_score=float(input(\"Enter your score:\"))\n",
        "if student_score in range(91,100):\n",
        "  print(\"you got O+\")\n",
        "elif student_score in range(81,90):\n",
        "  print(\"you got A+\")\n",
        "elif student_score in range(71,80):\n",
        "  print(\"you got B+\")\n",
        "elif student_score in range(61,70):\n",
        "  print(\"you got C+\")\n",
        "else:\n",
        "  print(\"you got D\")"
      ],
      "metadata": {
        "colab": {
          "base_uri": "https://localhost:8080/"
        },
        "id": "6cb5m7tr5wG6",
        "outputId": "e88a6ef8-4dcb-41e6-86d2-a01cc6a026eb"
      },
      "execution_count": null,
      "outputs": [
        {
          "output_type": "stream",
          "name": "stdout",
          "text": [
            "Enter your score:91\n",
            "you got O+\n"
          ]
        }
      ]
    },
    {
      "cell_type": "code",
      "source": [
        "student_score=float(input(\"Enter your score:\"))\n",
        "score_range = {(91,100):\"O+\",\n",
        "               (81,90):\"A+\",\n",
        "               (71,80):\"B+\",\n",
        "               (61,70):\"C+\",\n",
        "               (51,60):\"D+\"}\n",
        "for grade_range,grade in score_range.items():\n",
        "  if student_score in range(grade_range[0],grade_range[1]+1):\n",
        "    print(\"you got \",grade)\n",
        "    break\n",
        "else:\n",
        "    print(\"you got failed\")\n"
      ],
      "metadata": {
        "colab": {
          "base_uri": "https://localhost:8080/"
        },
        "id": "2rEOC4LRulsC",
        "outputId": "d896238a-85a1-45f1-8255-9637370fbf74"
      },
      "execution_count": null,
      "outputs": [
        {
          "output_type": "stream",
          "name": "stdout",
          "text": [
            "Enter your score:76\n",
            "you got  B+\n"
          ]
        }
      ]
    },
    {
      "cell_type": "markdown",
      "source": [
        "11.\tWrite a Python program to check if a string is empty or not using if-else."
      ],
      "metadata": {
        "id": "3ds2lp_SCG2E"
      }
    },
    {
      "cell_type": "code",
      "source": [
        "#my_string = \"hello world\"\n",
        "my_string = \"\"\n",
        "if my_string == \" \":\n",
        "  print(\"The string is empty\")\n",
        "else:\n",
        "  print(f\"{my_string}\")"
      ],
      "metadata": {
        "id": "rTOfBroquJRk",
        "colab": {
          "base_uri": "https://localhost:8080/"
        },
        "outputId": "ac68da5e-ef69-4c16-f345-00cc5e590fb0"
      },
      "execution_count": null,
      "outputs": [
        {
          "output_type": "stream",
          "name": "stdout",
          "text": [
            "hello world\n"
          ]
        }
      ]
    },
    {
      "cell_type": "markdown",
      "source": [
        "12.\tCreate a Python program that identifies the type of a triangle (e.g., equilateral, isosceles, or scalene) based on input values using if-else."
      ],
      "metadata": {
        "id": "eDo88kOj0EaF"
      }
    },
    {
      "cell_type": "code",
      "source": [
        "side1=float(input(\"Enter the value of side1:\"))\n",
        "side2=float(input(\"Enter the value of side2:\"))\n",
        "side3=float(input(\"Enter the value of side3:\"))\n",
        "\n",
        "if (side1+side2>side3) and (side2+side3>side1) and (side3+side1>side2):\n",
        "  if side1 == side2 ==side3:\n",
        "    triangle_type=\"Equilateral\"\n",
        "  elif side1 == side2 or side2 == side3 or side3 == side1:\n",
        "    triangle_type=\"Isosceles\"\n",
        "  else:\n",
        "    triangle_type=\"Scalene\"\n",
        "  print(f\"The triangle is {triangle_type} type.\")\n",
        "else:\n",
        "  print(\"This is not a triangle.\")"
      ],
      "metadata": {
        "id": "dBx6JgdF0Ktm",
        "colab": {
          "base_uri": "https://localhost:8080/"
        },
        "outputId": "72626cc3-01ae-41e2-8781-8a4a152b6e5e"
      },
      "execution_count": null,
      "outputs": [
        {
          "output_type": "stream",
          "name": "stdout",
          "text": [
            "Enter the value of side1:34\n",
            "Enter the value of side2:45\n",
            "Enter the value of side3:23\n",
            "The triangle is Scalene type.\n"
          ]
        }
      ]
    },
    {
      "cell_type": "markdown",
      "source": [
        "13.\tWrite a Python program to determine the day of the week based on a user-provided number using if-else."
      ],
      "metadata": {
        "id": "D6XF1yYp0LWy"
      }
    },
    {
      "cell_type": "code",
      "source": [
        "day= int(input(\"Enter the number for day in a week:\"))\n",
        "if day == 1:\n",
        "  print(\"Hey its Monday\")\n",
        "elif day == 2:\n",
        "  print(\"Hello am Tuesday\")\n",
        "elif day == 3:\n",
        "  print(\"Hi am Wednesday\")\n",
        "elif day == 4:\n",
        "  print(\"Actually am Thursday\")\n",
        "elif day == 5:\n",
        "  print(\"Be happy am Friday\")\n",
        "elif day == 6:\n",
        "  print(\"Now finally its Saturday\")\n",
        "elif day == 7:\n",
        "  print(\"Enjoy its Sunday\")\n",
        "else:\n",
        "  print(\"you are not under any day of a week\")"
      ],
      "metadata": {
        "id": "4FIBXrdq0PBc",
        "colab": {
          "base_uri": "https://localhost:8080/"
        },
        "outputId": "7f237718-ea03-406a-baf1-d057cfd2e03e"
      },
      "execution_count": null,
      "outputs": [
        {
          "output_type": "stream",
          "name": "stdout",
          "text": [
            "Enter the number for day in a week:5\n",
            "Be happy am Friday\n"
          ]
        }
      ]
    },
    {
      "cell_type": "code",
      "source": [
        "week_days = [\"Monday\",\"Tuesday\",\"Wednesday\",\"Thursday\",\"Friday\",\"Saturday\",\"Sunday\"]\n",
        "day = int(input(\"Enter the day of the week :\"))\n",
        "if 1<= day <= 7:\n",
        "  print(\"Its \",week_days[day - 1])\n",
        "else:\n",
        "  print(\"Its not a day in a week\")\n"
      ],
      "metadata": {
        "colab": {
          "base_uri": "https://localhost:8080/"
        },
        "id": "Itso7FNys3bK",
        "outputId": "d0f449cf-61a5-484a-84cb-88962f7d8322"
      },
      "execution_count": null,
      "outputs": [
        {
          "output_type": "stream",
          "name": "stdout",
          "text": [
            "Enter the day of the week :4\n",
            "Its  Thursday\n"
          ]
        }
      ]
    },
    {
      "cell_type": "markdown",
      "source": [
        "14.\tCreate a Python program that checks if a given year is a leap year using both if-else and a function."
      ],
      "metadata": {
        "id": "ni_Dj_VX0nGf"
      }
    },
    {
      "cell_type": "code",
      "source": [
        "year = int(input(\"Enter the year:\"))\n",
        "if year % 4 == 0 and year % 100 != 0 or year % 400 ==0:\n",
        "  print(\"Its a leap year\")\n",
        "else:\n",
        "  print(\"Its not a leap year\")"
      ],
      "metadata": {
        "id": "_5mTsnv20rcd",
        "colab": {
          "base_uri": "https://localhost:8080/"
        },
        "outputId": "aa9683ea-a143-48b6-b846-29f0ad09d2be"
      },
      "execution_count": null,
      "outputs": [
        {
          "output_type": "stream",
          "name": "stdout",
          "text": [
            "Enter the year:2024\n",
            "Its a leap year\n"
          ]
        }
      ]
    },
    {
      "cell_type": "code",
      "source": [
        "def leap_year(year):\n",
        "  if year % 4 == 0 and year % 100 != 0 or year % 400 ==0:\n",
        "    return True\n",
        "  else:\n",
        "    return False\n",
        "year = int(input(\"Enter the year:\"))\n",
        "result = leap_year(year)\n",
        "if result is True:\n",
        "  print(\"Its a leap year\")\n",
        "else:\n",
        "  print(\"Its not a leap year\")\n"
      ],
      "metadata": {
        "colab": {
          "base_uri": "https://localhost:8080/"
        },
        "id": "TjkxLA1M3tsr",
        "outputId": "ce039005-20c2-48e4-9d12-d9f1c6716bcc"
      },
      "execution_count": null,
      "outputs": [
        {
          "output_type": "stream",
          "name": "stdout",
          "text": [
            "Enter the year:2023\n",
            "Its not a leap year\n"
          ]
        }
      ]
    },
    {
      "cell_type": "markdown",
      "source": [
        "15.\tHow do you use the \"assert\" statement in Python to add debugging checks within if-else blocks?"
      ],
      "metadata": {
        "id": "k4FTIVxv0sHi"
      }
    },
    {
      "cell_type": "code",
      "source": [],
      "metadata": {
        "id": "RTwFw3dcbJJa"
      },
      "execution_count": null,
      "outputs": []
    },
    {
      "cell_type": "markdown",
      "source": [
        "16.\tCreate a Python program that determines the eligibility of a person for a senior citizen discount based on age using if-else."
      ],
      "metadata": {
        "id": "AtkriI2gbJ8b"
      }
    },
    {
      "cell_type": "code",
      "source": [
        "age = int(input(\"Enter the age of the person:\"))\n",
        "\n",
        "if age >= 60:\n",
        "  print(\"You are eligible for a senior citizen discount\")\n",
        "else:\n",
        "  print(\"No discount applied\")\n"
      ],
      "metadata": {
        "id": "YbeKFwLibYPi",
        "colab": {
          "base_uri": "https://localhost:8080/"
        },
        "outputId": "a479c350-db0d-4405-c2ca-40fd42c3139f"
      },
      "execution_count": null,
      "outputs": [
        {
          "output_type": "stream",
          "name": "stdout",
          "text": [
            "Enter the age of the person:82\n",
            "You are eligible for a senior citizen discount\n"
          ]
        }
      ]
    },
    {
      "cell_type": "markdown",
      "source": [
        "17.\tWrite a Python program to categorize a given character as uppercase, lowercase, or neither using if-else."
      ],
      "metadata": {
        "id": "2vuq9_NOb7cm"
      }
    },
    {
      "cell_type": "code",
      "source": [
        "char=(input(\"Enter a character:\"))\n",
        "if char.isupper():\n",
        "  print(\"It is a upper case character\")\n",
        "elif char.islower():\n",
        "  print(\"It is a lower case character\")\n",
        "else:\n",
        "  print(\"It is a special case\")"
      ],
      "metadata": {
        "id": "IVkhykH3cGer",
        "colab": {
          "base_uri": "https://localhost:8080/"
        },
        "outputId": "318c38c7-69ab-4dd0-c4a0-da9a14b46f8f"
      },
      "execution_count": null,
      "outputs": [
        {
          "output_type": "stream",
          "name": "stdout",
          "text": [
            "Enter a character:#\n",
            "It is a special case\n"
          ]
        }
      ]
    },
    {
      "cell_type": "markdown",
      "source": [
        "18.\tWrite a Python program to determine the roots of a quadratic equation using if-else."
      ],
      "metadata": {
        "id": "FiO6v4_WcHPn"
      }
    },
    {
      "cell_type": "code",
      "source": [
        "import math\n",
        "\n",
        "a=float(input(\"Enter the value of coeffiecient 'a': \"))\n",
        "b=float(input(\"Enter the value of coeffiecient 'b': \"))\n",
        "c=float(input(\"Enter the value of coeffiecient 'c': \"))\n",
        "\n",
        "discriminant= b**2-4*a*c\n",
        "\n",
        "if discriminant>0:\n",
        "  root1=(-b+math.sqrt(discriminant))/(2*a)\n",
        "  root2=(-b-math.sqrt(discriminant))/(2*a)\n",
        "  print(f\"The roots re real and distinct:{root1} and {root2}\")\n",
        "elif discriminant == 0:\n",
        "  root1=-b/(2*a)\n",
        "  print(f\"There is one real root(repeated):{root1}\")\n",
        "else:\n",
        "  real_part=-b/(2*a)\n",
        "  imaginary_part=math.sqrt(abs(discriminant))/(2*a)\n",
        "  print(f\"The roots are imaginary:{real_part}+{imaginary_part}i and {real_part}+{imaginary_part}i\")"
      ],
      "metadata": {
        "id": "6KyeRn8yck3F",
        "colab": {
          "base_uri": "https://localhost:8080/"
        },
        "outputId": "4bf6b097-1602-46f4-868e-77a112f23883"
      },
      "execution_count": null,
      "outputs": [
        {
          "output_type": "stream",
          "name": "stdout",
          "text": [
            "Enter the value of coeffiecient 'a': 4\n",
            "Enter the value of coeffiecient 'b': 5\n",
            "Enter the value of coeffiecient 'c': 6\n",
            "The roots are imaginary:-0.625+1.0532687216470449i and -0.625+1.0532687216470449i\n"
          ]
        }
      ]
    },
    {
      "cell_type": "markdown",
      "source": [
        "19.\tCreate a Python program that checks if a given year is a century year or not using if-else."
      ],
      "metadata": {
        "id": "T__v7qvvclmf"
      }
    },
    {
      "cell_type": "code",
      "source": [
        "year = int(input(\"Enter the year:\"))\n",
        "if year % 100 == 0 :\n",
        "  print(\"Its a century year\")\n",
        "else:\n",
        "  print(\"Its not a century year\")"
      ],
      "metadata": {
        "id": "XW3kWLuQcvFH",
        "colab": {
          "base_uri": "https://localhost:8080/"
        },
        "outputId": "8850fbea-7393-4b37-af50-917928b2b0d8"
      },
      "execution_count": null,
      "outputs": [
        {
          "output_type": "stream",
          "name": "stdout",
          "text": [
            "Enter the year:2000\n",
            "Its a century year\n"
          ]
        }
      ]
    },
    {
      "cell_type": "markdown",
      "source": [
        "20.\tWrite a Python program to determine if a given number is a perfect square using if-else."
      ],
      "metadata": {
        "id": "0PI0S0SeelR-"
      }
    },
    {
      "cell_type": "code",
      "source": [
        "import math\n",
        "num = int(input(\"Enter the number:\"))\n",
        "sqrt_num = int(math.sqrt(num))\n",
        "if sqrt_num * sqrt_num == num:\n",
        "  print(f\"{num} is a perfect square\")\n",
        "else:\n",
        "  print(f\"{num} is not a perfect square \")"
      ],
      "metadata": {
        "id": "smX_EJAnes0j",
        "colab": {
          "base_uri": "https://localhost:8080/"
        },
        "outputId": "014a1b4c-b0e8-486d-f1ac-210f442896ce"
      },
      "execution_count": null,
      "outputs": [
        {
          "output_type": "stream",
          "name": "stdout",
          "text": [
            "Enter the number:35\n",
            "35 is not a perfect square \n"
          ]
        }
      ]
    },
    {
      "cell_type": "markdown",
      "source": [
        "21.\tExplain the purpose of the \"continue\" and \"break\" statements within if-else loops."
      ],
      "metadata": {
        "id": "2wlG2vjjeuJf"
      }
    },
    {
      "cell_type": "markdown",
      "source": [
        "The break and continue statements in Python are used to skip parts of the current loop or break out of the loop completely.\n",
        "\n",
        "The break statement can be used if you need to break out of a for or while loop and move onto the next section of code.\n",
        "\n",
        "The continue statement can be used if you need to skip the current iteration of a for or while loop and move onto the next iteration."
      ],
      "metadata": {
        "id": "ADbE9ZL9_efL"
      }
    },
    {
      "cell_type": "markdown",
      "source": [
        "22.\tCreate a Python program that calculates the BMI (Body Mass Index) of a person based on their weight and height using if-else."
      ],
      "metadata": {
        "id": "55g_ALhHfAe2"
      }
    },
    {
      "cell_type": "code",
      "source": [
        "height=float(input(\"Enter the persons height in meter:\"))\n",
        "weight=float(input(\"Enter the persons weight kilogram:\"))\n",
        "bmi=weight/(height**2)\n",
        "print(f\"{bmi} is your BMI\")\n",
        "\n",
        "if bmi<18.5:\n",
        "  category = \"underweight\"\n",
        "elif 18.5<= bmi <25:\n",
        "  category = \"normal\"\n",
        "elif 25<= bmi< 30:\n",
        "  category = \"overweight\"\n",
        "else:\n",
        "  category = \"Obese\"\n",
        "print(f\"your bmi is {bmi:.2f}, and you fall in {category} category.\")"
      ],
      "metadata": {
        "id": "RVKxReAChkZ9",
        "colab": {
          "base_uri": "https://localhost:8080/"
        },
        "outputId": "f998f5d4-c889-46b4-a63f-088e5b25e8ae"
      },
      "execution_count": null,
      "outputs": [
        {
          "output_type": "stream",
          "name": "stdout",
          "text": [
            "Enter the persons height in meter:104\n",
            "Enter the persons weight kilogram:60\n",
            "0.005547337278106509 is your BMI\n",
            "your bmi is 0.01, and you fall in underweight category.\n"
          ]
        }
      ]
    },
    {
      "cell_type": "markdown",
      "source": [
        "23.\tHow can you use the \"filter()\" function with if-else statements to filter elements from a list?"
      ],
      "metadata": {
        "id": "BINDz35zhlvt"
      }
    },
    {
      "cell_type": "code",
      "source": [
        "my_list = [1,2,3,4,5,6,6,7]\n",
        "filtered_list = list(filter(lambda x: True if x%2 == 0 else False,my_list))\n",
        "print(f\"The list after filtration is {filtered_list}\")"
      ],
      "metadata": {
        "id": "nti8XKdrLnOG",
        "colab": {
          "base_uri": "https://localhost:8080/"
        },
        "outputId": "8ad767a1-169b-4e79-84d4-97c9ff7c6a37"
      },
      "execution_count": null,
      "outputs": [
        {
          "output_type": "stream",
          "name": "stdout",
          "text": [
            "The list after filtration is [2, 4, 6, 6]\n"
          ]
        }
      ]
    },
    {
      "cell_type": "markdown",
      "source": [
        "24.\tWrite a Python program to determine if a given number is prime or not using if-else."
      ],
      "metadata": {
        "id": "DIYf-3OMhrNM"
      }
    },
    {
      "cell_type": "code",
      "source": [
        "num=int(input(\"Enter the number:\"))\n",
        "if num<2:\n",
        "  print(\"The number is not a prime number\")\n",
        "if num % 2 == 0:\n",
        "  print(\"The number is not a prime number\")\n",
        "else:\n",
        "  print(\"It is a prime number\")"
      ],
      "metadata": {
        "id": "XMK9HTQBiKYj",
        "colab": {
          "base_uri": "https://localhost:8080/"
        },
        "outputId": "c1c6293f-3ac9-45f9-ad7c-b18e23ded56d"
      },
      "execution_count": null,
      "outputs": [
        {
          "output_type": "stream",
          "name": "stdout",
          "text": [
            "Enter the number:7\n",
            "It is a prime number\n"
          ]
        }
      ]
    },
    {
      "cell_type": "markdown",
      "source": [
        "**Map :-**"
      ],
      "metadata": {
        "id": "IrAselddiLI5"
      }
    },
    {
      "cell_type": "markdown",
      "source": [
        "1.\tExplain the purpose of the `map()` function in Python and provide an example of how it can be used to apply a function to each element of an iterable."
      ],
      "metadata": {
        "id": "Fa9LNAcNUrM9"
      }
    },
    {
      "cell_type": "code",
      "source": [],
      "metadata": {
        "id": "1md10PqAU6Wj"
      },
      "execution_count": null,
      "outputs": []
    },
    {
      "cell_type": "markdown",
      "source": [
        "2.\tWrite a Python program that uses the `map()` function to square each element of a list of numbers."
      ],
      "metadata": {
        "id": "pY3b5jzsU-oN"
      }
    },
    {
      "cell_type": "code",
      "source": [],
      "metadata": {
        "id": "3LOpDIofVFCj"
      },
      "execution_count": null,
      "outputs": []
    },
    {
      "cell_type": "markdown",
      "source": [
        "3.\tHow does the `map()` function differ from a list comprehension in Python, and when would you choose one over the other?"
      ],
      "metadata": {
        "id": "XM4BMzaGVGh-"
      }
    },
    {
      "cell_type": "code",
      "source": [],
      "metadata": {
        "id": "QXqjJ9r7VOJU"
      },
      "execution_count": null,
      "outputs": []
    },
    {
      "cell_type": "markdown",
      "source": [
        "4.\tCreate a Python program that uses the `map()` function to convert a list of names to uppercase."
      ],
      "metadata": {
        "id": "OGIIazm-VO52"
      }
    },
    {
      "cell_type": "code",
      "source": [],
      "metadata": {
        "id": "j6Sc794DVgy8"
      },
      "execution_count": null,
      "outputs": []
    },
    {
      "cell_type": "markdown",
      "source": [
        "5.\tWrite a Python program that uses the `map()` function to calculate the length of each word in a list of strings."
      ],
      "metadata": {
        "id": "4u8BFS02ViEP"
      }
    },
    {
      "cell_type": "code",
      "source": [],
      "metadata": {
        "id": "zKc9L0gNVvGW"
      },
      "execution_count": null,
      "outputs": []
    },
    {
      "cell_type": "markdown",
      "source": [
        "6.\tHow can you use the `map()` function to apply a custom function to elements of multiple lists simultaneously in Python?"
      ],
      "metadata": {
        "id": "wcgWkq4sVwIR"
      }
    },
    {
      "cell_type": "code",
      "source": [],
      "metadata": {
        "id": "BacsbeZcV2Hl"
      },
      "execution_count": null,
      "outputs": []
    },
    {
      "cell_type": "markdown",
      "source": [
        "7.\tCreate a Python program that uses `map()` to convert a list of temperatures from Celsius to Fahrenheit."
      ],
      "metadata": {
        "id": "vGqQse5GV23x"
      }
    },
    {
      "cell_type": "code",
      "source": [],
      "metadata": {
        "id": "Zv51CPynWE3H"
      },
      "execution_count": null,
      "outputs": []
    },
    {
      "cell_type": "markdown",
      "source": [
        "8.\tWrite a Python program that uses the `map()` function to round each element of a list of floating-point numbers to the nearest integer."
      ],
      "metadata": {
        "id": "mfuCN6dAWmil"
      }
    },
    {
      "cell_type": "code",
      "source": [],
      "metadata": {
        "id": "Ln0VkvNxWlVM"
      },
      "execution_count": null,
      "outputs": []
    }
  ]
}